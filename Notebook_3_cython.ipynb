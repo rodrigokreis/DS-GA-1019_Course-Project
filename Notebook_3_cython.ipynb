{
  "cells": [
    {
      "cell_type": "code",
      "execution_count": 3,
      "metadata": {
        "id": "386b_VDVIQ-O"
      },
      "outputs": [],
      "source": [
        "import numpy as np\n",
        "import pandas as pd\n",
        "import random\n",
        "import math\n",
        "import time\n",
        "from tqdm import tqdm\n",
        "from numba import jit, float64, float32, int32, prange, njit"
      ]
    },
    {
      "cell_type": "code",
      "execution_count": 6,
      "metadata": {
        "id": "vdcDlJJokA4h"
      },
      "outputs": [],
      "source": [
        "%load_ext Cython"
      ]
    },
    {
      "cell_type": "code",
      "execution_count": 104,
      "metadata": {
        "id": "RVSyQ5t8IQ-Q"
      },
      "outputs": [],
      "source": [
        "%%cython\n",
        "import numpy as np\n",
        "import pandas as pd\n",
        "import random\n",
        "import math\n",
        "import time\n",
        "from numba import jit, float64, float32, int32, prange, njit\n",
        "cimport numpy as np\n",
        "\n",
        "def train(np.ndarray[float, ndim=2] X, np.ndarray[float,ndim=2] y, int bs, int epochs, float lr):\n",
        "    cdef int m = X.shape[0]\n",
        "    cdef int n = X.shape[1]\n",
        "    \n",
        "    # Initializing weights and bias to zeros.\n",
        "    cdef np.ndarray[float, ndim=2] w = np.zeros((n,1), dtype=np.float32)\n",
        "    cdef float b = 0.0\n",
        "    \n",
        "    # Normalize inputs\n",
        "    cdef np.ndarray[double, ndim=1] means = np.zeros(n)\n",
        "    cdef np.ndarray[double, ndim=1] stds = np.zeros(n)\n",
        "\n",
        "    # Compute column-wise means and standard deviations\n",
        "    for j in prange(n):\n",
        "        col = X[:, j]\n",
        "        means[j] = np.mean(col)\n",
        "        stds[j] = np.std(col)\n",
        "    \n",
        "    # Normalize X based on means and standard deviations\n",
        "    for i in prange(m):\n",
        "        for j in prange(n):\n",
        "            X[i, j] = (X[i, j] - means[j]) / stds[j]\n",
        "    \n",
        "    # Train\n",
        "    for epoch in prange(epochs):\n",
        "        for i in prange((m-1)//bs + 1):\n",
        "            \n",
        "            # Defining batches for SGD\n",
        "            start_i = i*bs\n",
        "            end_i = start_i + bs\n",
        "            xb = X[start_i:end_i]\n",
        "            yb = y[start_i:end_i]\n",
        "            \n",
        "            # Predict\n",
        "            y_hat = 1.0 / (1 + np.exp(-(np.dot(xb, w) + b)))\n",
        "            \n",
        "            # Calculate gradients\n",
        "            #dw, db = gradients(xb, yb, y_hat)\n",
        "            diff = np.subtract(y_hat, yb)\n",
        "            scale_factor = np.divide(1,xb.shape[0])\n",
        "            #scale_factor = np.divide(1/xb.shape[0])\n",
        "            #Gradient of loss wrt weights\n",
        "            dot = np.dot(np.transpose(xb).astype(np.float64), diff)\n",
        "            dw = np.multiply(scale_factor, dot)\n",
        "            #Gradient of loss wrt bias\n",
        "            db = np.multiply(scale_factor, np.sum(diff))\n",
        "            \n",
        "            # Update params\n",
        "            w -= lr*dw\n",
        "            b -= lr*db\n",
        "        \n",
        "    return w, b\n",
        "\n",
        "def compare(np.ndarray[float, ndim=2] X, np.ndarray[float, ndim=2] y): \n",
        "    random.seed(1)\n",
        "    wb = train(X, y, bs=100, epochs=1000, lr=0.001)\n",
        "    cdef np.ndarray[float, ndim=2] w = wb[0]\n",
        "    cdef float b = wb[1]\n",
        "\n",
        "    # Normalizing the inputs.\n",
        "    n, m = X.shape[0], X.shape[1]\n",
        "    \n",
        "    # Normalize inputs\n",
        "    cdef np.ndarray[double, ndim=1] means = np.zeros(m)\n",
        "    cdef np.ndarray[double, ndim=1] stds = np.zeros(m)\n",
        "\n",
        "    # Compute column-wise means and standard deviations\n",
        "    for j in prange(m):\n",
        "        col = X[:, j]\n",
        "        means[j] = np.mean(col)\n",
        "        stds[j] = np.std(col)\n",
        "    \n",
        "    # Normalize X based on means and standard deviations\n",
        "    for i in prange(n):\n",
        "        for j in prange(m):\n",
        "            X[i, j] = (X[i, j] - means[j]) / stds[j]\n",
        "    \n",
        "    # Calculating presictions/y_hat.\n",
        "    cdef np.ndarray[float, ndim=2] preds = 1.0 / (1 + np.exp(-(np.dot(X, w) + b)))\n",
        "    # Converting predicted probabilities to binary classes.\n",
        "    cdef np.ndarray[long, ndim=2] pred = np.where(preds >= 0.5, 1, 0)\n",
        "    cdef np.ndarray[float, ndim=1] y_rav = np.asarray(y, dtype=np.float32).ravel()\n",
        "    cdef np.ndarray[float, ndim=1] pred_rav = np.asarray(pred, dtype=np.float32).ravel()\n",
        "    cdef float acc = np.sum(y_rav == pred_rav) / len(y_rav)\n",
        "    return w, acc\n",
        "\n"
      ]
    },
    {
      "cell_type": "code",
      "execution_count": 10,
      "metadata": {
        "colab": {
          "base_uri": "https://localhost:8080/"
        },
        "id": "YL1Y1e4FIQ-T",
        "outputId": "33ddf0eb-db53-40a9-cd5e-c45068efaad4"
      },
      "outputs": [
        {
          "name": "stdout",
          "output_type": "stream",
          "text": [
            "Reading the parquet file took 24.9092 seconds\n"
          ]
        }
      ],
      "source": [
        "start = time.time()\n",
        "train_raw = pd.read_parquet('./train_data.parquet')\n",
        "end = time.time() \n",
        "print(f\"Reading the parquet file took {end - start:0.4f} seconds\")"
      ]
    },
    {
      "cell_type": "code",
      "execution_count": 105,
      "metadata": {
        "id": "JjPltxXFIQ-T"
      },
      "outputs": [],
      "source": [
        "def clean_and_getSampledata(train_raw):\n",
        "    raw_sample = train_raw.iloc[:100_000] #Change sample size here\n",
        "    raw_sample = raw_sample.drop('B_31', axis='columns')\n",
        "    sample = raw_sample.select_dtypes(include=['float32', 'int64'], exclude=['object', 'category']).fillna(0)\n",
        "    categorical_features = ['target']\n",
        "    sample[categorical_features] = sample[categorical_features].astype(\"float32\")\n",
        "    X_train = sample.iloc[:,:-1].values\n",
        "    y_train = sample[['target']].values\n",
        "    return X_train, y_train"
      ]
    },
    {
      "cell_type": "code",
      "execution_count": 106,
      "metadata": {
        "id": "QMqOlp-pIQ-U"
      },
      "outputs": [],
      "source": [
        "X_train, y_train = clean_and_getSampledata(train_raw)"
      ]
    },
    {
      "cell_type": "code",
      "execution_count": null,
      "metadata": {
        "id": "S5CQeXnwsoa5"
      },
      "outputs": [],
      "source": [
        "# %%timeit\n",
        "# w2, acc = compare(X_train, y_train)"
      ]
    },
    {
      "cell_type": "code",
      "execution_count": 107,
      "metadata": {
        "colab": {
          "base_uri": "https://localhost:8080/"
        },
        "id": "1eaYrco-IQ-V",
        "outputId": "5ca90260-a3ef-4620-a948-e8b7c96dd5b4"
      },
      "outputs": [
        {
          "name": "stdout",
          "output_type": "stream",
          "text": [
            "CPU times: user 7min 15s, sys: 15min 22s, total: 22min 37s\n",
            "Wall time: 4min 42s\n"
          ]
        }
      ],
      "source": [
        "%%time\n",
        "w2, acc = compare(X_train, y_train)"
      ]
    },
    {
      "cell_type": "code",
      "execution_count": 108,
      "metadata": {
        "colab": {
          "base_uri": "https://localhost:8080/"
        },
        "id": "4ckI_OgfIQ-V",
        "outputId": "451a6016-cec5-476a-df19-40d6bc56f6c8"
      },
      "outputs": [
        {
          "name": "stdout",
          "output_type": "stream",
          "text": [
            "Accuracy of our logistic regression: 0.874530017375946\n"
          ]
        }
      ],
      "source": [
        "print(f'Accuracy of our logistic regression: {acc}')"
      ]
    }
  ],
  "metadata": {
    "colab": {
      "machine_shape": "hm",
      "provenance": []
    },
    "gpuClass": "standard",
    "kernelspec": {
      "display_name": "Python 3 (ipykernel)",
      "language": "python",
      "name": "python3"
    },
    "language_info": {
      "codemirror_mode": {
        "name": "ipython",
        "version": 3
      },
      "file_extension": ".py",
      "mimetype": "text/x-python",
      "name": "python",
      "nbconvert_exporter": "python",
      "pygments_lexer": "ipython3",
      "version": "3.8.16"
    }
  },
  "nbformat": 4,
  "nbformat_minor": 0
}
