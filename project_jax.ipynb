{
 "cells": [
  {
   "cell_type": "code",
   "execution_count": 1,
   "id": "70f51a80",
   "metadata": {},
   "outputs": [],
   "source": [
    "import time\n",
    "import jax\n",
    "import pandas as pd\n",
    "from tqdm import tqdm\n",
    "import jax.numpy as jnp\n",
    "from jax import jit, grad, hessian\n",
    "from jax import grad, jit, vmap\n"
   ]
  },
  {
   "cell_type": "code",
   "execution_count": 2,
   "id": "c3340c08",
   "metadata": {},
   "outputs": [],
   "source": [
    "def sigmoid(z):\n",
    "    return 1.0 / (1.0 + jnp.exp(-z))\n",
    "\n",
    "def binary_cross_entropy_loss(y_true, y_pred):\n",
    "    \"\"\"Binary cross-entropy loss.\"\"\"\n",
    "    epsilon = 1e-7  # small value to avoid division by zero\n",
    "    y_pred = jnp.clip(y_pred, epsilon, 1 - epsilon)  # clip y_pred to avoid log(0)\n",
    "    loss = -(y_true * jnp.log(y_pred) + (1 - y_true) * jnp.log(1 - y_pred))\n",
    "    return jnp.mean(loss)\n",
    "\n",
    "def normalize(X):\n",
    "    means = jnp.mean(X, axis=0)\n",
    "    stds = jnp.std(X, axis=0)\n",
    "\n",
    "    X_normalized = jnp.divide((X - means), stds)\n",
    "\n",
    "    return X_normalized\n",
    "\n",
    "\n",
    "@jit\n",
    "def gradients(w, b, xb, yb):\n",
    "    y_hat = jnp.dot(xb, w) + b\n",
    "    diff = sigmoid(y_hat) - yb\n",
    "    dw = jnp.dot(xb.T, diff)\n",
    "    db = jnp.sum(diff)\n",
    "    return dw, db\n",
    "\n",
    "def train(X, y, bs, epochs, lr):\n",
    "    m, n = X.shape\n",
    "    \n",
    "    # Initializing weights and bias to zeros.\n",
    "    w = jnp.zeros((n,1))\n",
    "    b = jnp.zeros(())\n",
    "    \n",
    "    # Normalize inputs\n",
    "    x = normalize(X)\n",
    "    \n",
    "    # Store losses\n",
    "    losses = []\n",
    "    \n",
    "    # Train\n",
    "    for epoch in tqdm(range(epochs)):\n",
    "        for i in range((m-1)//bs + 1):\n",
    "            \n",
    "            # Defining batches for SGD (this can be changed)\n",
    "            start_i = i*bs\n",
    "            end_i = start_i + bs\n",
    "            xb = x[start_i:end_i]\n",
    "            yb = y[start_i:end_i]\n",
    "            \n",
    "            # Calculate gradients\n",
    "            dw, db = gradients(w, b, xb, yb)\n",
    "            \n",
    "            # Update params\n",
    "            w -= lr*dw\n",
    "            b -= lr*db\n",
    "        \n",
    "        # Calc loss\n",
    "        y_hat = jnp.dot(x, w) + b\n",
    "        l = jnp.mean(binary_cross_entropy_loss(y_hat, y))\n",
    "        losses.append(l)\n",
    "    \n",
    "    return w, b, losses"
   ]
  },
  {
   "cell_type": "code",
   "execution_count": 3,
   "id": "02ca5b83",
   "metadata": {},
   "outputs": [],
   "source": [
    "@jit\n",
    "def predict(X, w, b):\n",
    "    # X --> Input.\n",
    "    # Normalizing the inputs.\n",
    "    x = normalize(X)\n",
    "    \n",
    "    # Calculating predictions/y_hat.\n",
    "    preds = sigmoid(jnp.dot(X, w) + b)\n",
    "    \n",
    "    # if y_hat >= 0.5 --> round up to 1\n",
    "    # if y_hat < 0.5 --> round up to 1\n",
    "    pred_class = jnp.round(preds).astype(int)\n",
    "    return pred_class\n",
    "\n",
    "\n",
    "@jit\n",
    "def accuracy(y_true, y_pred):\n",
    "    return jnp.mean(y_true == jnp.round(y_pred))"
   ]
  },
  {
   "cell_type": "code",
   "execution_count": 4,
   "id": "9fab8466",
   "metadata": {},
   "outputs": [],
   "source": [
    "def compare(X, y):\n",
    "    # Training \n",
    "    start1 = time.time()\n",
    "    w, b, l = train(X, y, bs=100, epochs=1000, lr=0.001)\n",
    "    pred = predict(X, w, b)\n",
    "    acc = accuracy(y, pred)\n",
    "    end1 = time.time()\n",
    "    print(f'Time to run our logistic regression: {end1 - start1} s')\n",
    "    print(f'Accuracy of our logistic regression: {acc}')\n",
    "    return w"
   ]
  },
  {
   "cell_type": "code",
   "execution_count": 5,
   "id": "7c1a8242",
   "metadata": {},
   "outputs": [
    {
     "name": "stdout",
     "output_type": "stream",
     "text": [
      "Reading the parquet file took 8.0623 seconds\n"
     ]
    }
   ],
   "source": [
    "start = time.time()\n",
    "train_raw = pd.read_parquet('train_data.parquet')\n",
    "end = time.time() \n",
    "print(f\"Reading the parquet file took {end - start:0.4f} seconds\")"
   ]
  },
  {
   "cell_type": "code",
   "execution_count": 6,
   "id": "ef9b6906",
   "metadata": {},
   "outputs": [],
   "source": [
    "def clean_and_getSampledata(train_raw):\n",
    "    raw_sample = train_raw.iloc[:100_000] #Change sample size here\n",
    "    raw_sample = raw_sample.drop('B_31', axis='columns')\n",
    "    sample = raw_sample.select_dtypes(include=['float32', 'int64'], exclude=['object', 'category']).fillna(0)\n",
    "    categorical_features = ['target']\n",
    "    sample[categorical_features] = sample[categorical_features].astype(\"float32\")\n",
    "    X_train = sample.iloc[:,:-1].values\n",
    "    y_train = sample[['target']].values\n",
    "    return X_train, y_train"
   ]
  },
  {
   "cell_type": "code",
   "execution_count": 7,
   "id": "bbc60beb",
   "metadata": {},
   "outputs": [],
   "source": [
    "X_train, y_train = clean_and_getSampledata(train_raw)"
   ]
  },
  {
   "cell_type": "code",
   "execution_count": 8,
   "id": "efa75ef3",
   "metadata": {},
   "outputs": [
    {
     "name": "stderr",
     "output_type": "stream",
     "text": [
      "100%|██████████████████████████████████████████████████████████████████████████████████████████████████████████████████████████████████████| 1000/1000 [05:28<00:00,  3.05it/s]"
     ]
    },
    {
     "name": "stdout",
     "output_type": "stream",
     "text": [
      "Time to run our logistic regression: 328.62737798690796 s\n",
      "Accuracy of our logistic regression: 0.7498399615287781\n"
     ]
    },
    {
     "name": "stderr",
     "output_type": "stream",
     "text": [
      "\n"
     ]
    }
   ],
   "source": [
    "w2 = compare(X_train, y_train)"
   ]
  },
  {
   "cell_type": "code",
   "execution_count": 9,
   "id": "fb8d812d",
   "metadata": {},
   "outputs": [],
   "source": [
    "# 5.477 minutes"
   ]
  },
  {
   "cell_type": "code",
   "execution_count": null,
   "id": "a203a5fe",
   "metadata": {},
   "outputs": [],
   "source": []
  }
 ],
 "metadata": {
  "kernelspec": {
   "display_name": "Python 3 (ipykernel)",
   "language": "python",
   "name": "python3"
  },
  "language_info": {
   "codemirror_mode": {
    "name": "ipython",
    "version": 3
   },
   "file_extension": ".py",
   "mimetype": "text/x-python",
   "name": "python",
   "nbconvert_exporter": "python",
   "pygments_lexer": "ipython3",
   "version": "3.9.13"
  }
 },
 "nbformat": 4,
 "nbformat_minor": 5
}
