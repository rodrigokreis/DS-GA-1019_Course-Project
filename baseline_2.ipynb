{
 "cells": [
  {
   "cell_type": "code",
   "execution_count": 1,
   "id": "f9714e55",
   "metadata": {},
   "outputs": [],
   "source": [
    "# 1. Run time for original code:\n",
    "import time \n",
    "start = time.time()"
   ]
  },
  {
   "cell_type": "code",
   "execution_count": 2,
   "id": "0af6d5fc",
   "metadata": {},
   "outputs": [],
   "source": [
    "# 2. Reading Libraries\n",
    "import os\n",
    "import warnings\n",
    "\n",
    "import numpy as np\n",
    "import pandas as pd\n",
    "import matplotlib.pyplot as plt\n",
    "import seaborn as sns\n",
    "import matplotlib as mpl\n",
    "import math\n",
    "import gc\n",
    "import pprint\n",
    "\n",
    "pd.set_option('display.max_columns', None)\n",
    "warnings.filterwarnings('ignore')"
   ]
  },
  {
   "cell_type": "code",
   "execution_count": 3,
   "id": "6ad78c19",
   "metadata": {},
   "outputs": [],
   "source": [
    "# XGBOOST\n",
    "from sklearn.metrics import accuracy_score\n",
    "from sklearn.preprocessing import LabelEncoder\n",
    "from sklearn.model_selection import train_test_split"
   ]
  },
  {
   "cell_type": "code",
   "execution_count": 4,
   "id": "75b7e119",
   "metadata": {},
   "outputs": [],
   "source": [
    "from pathlib import Path\n",
    "input_path = Path('./data/')"
   ]
  },
  {
   "cell_type": "code",
   "execution_count": 5,
   "id": "8974da3e",
   "metadata": {},
   "outputs": [],
   "source": [
    "# Load Data\n",
    "train_data = pd.read_csv('./data/train_data.csv').groupby('customer_ID').tail(1).set_index('customer_ID', drop=True).sort_index()"
   ]
  },
  {
   "cell_type": "code",
   "execution_count": 6,
   "id": "d288b5b6",
   "metadata": {},
   "outputs": [],
   "source": [
    "labels = pd.read_csv('./data/train_labels.csv').set_index('customer_ID', drop=True)"
   ]
  },
  {
   "cell_type": "code",
   "execution_count": 7,
   "id": "310862d5",
   "metadata": {},
   "outputs": [],
   "source": [
    "categorical_features = ['B_30', 'B_38', 'D_114', 'D_116', 'D_117', 'D_120', 'D_126', 'D_63', 'D_64', 'D_68']\n",
    "\n",
    "label_encoder = LabelEncoder()\n",
    "\n",
    "for feature in categorical_features:\n",
    "    train_data[feature] = label_encoder.fit_transform(train_data[feature])"
   ]
  },
  {
   "cell_type": "code",
   "execution_count": 8,
   "id": "5cac25b6",
   "metadata": {},
   "outputs": [],
   "source": [
    "#Data process\n",
    "#remove the columns which has lots of missing data\n",
    "null_percentages = (train_data.isnull().sum() / len(train_data)) * 100\n",
    "high_null_cols = [col for col in null_percentages.index if null_percentages[col] > 80]\n",
    "train_data = train_data.drop(high_null_cols, axis=1)"
   ]
  },
  {
   "cell_type": "code",
   "execution_count": 9,
   "id": "f82ef2d8",
   "metadata": {},
   "outputs": [],
   "source": [
    "#delete s2 feature\n",
    "train_data = train_data.drop(['S_2'], axis =1)"
   ]
  },
  {
   "cell_type": "code",
   "execution_count": 10,
   "id": "e50dd552",
   "metadata": {},
   "outputs": [],
   "source": [
    "categories = [col for col in train_data.columns if train_data[col].dtype == 'category']"
   ]
  },
  {
   "cell_type": "code",
   "execution_count": 11,
   "id": "dc9b5ad6",
   "metadata": {},
   "outputs": [],
   "source": [
    "#fill null data\n",
    "for i in categories:\n",
    "    train_data[i] =  train_data[i].fillna(train_data[i].mode()[0])"
   ]
  },
  {
   "cell_type": "code",
   "execution_count": 12,
   "id": "e9688d37",
   "metadata": {},
   "outputs": [],
   "source": [
    "null_columns = train_data.columns[train_data.isna().any()].tolist()\n",
    "for j in null_columns:\n",
    "     train_data[j] = train_data[j].fillna(train_data[j].median())"
   ]
  },
  {
   "cell_type": "code",
   "execution_count": 13,
   "id": "ece54173",
   "metadata": {},
   "outputs": [],
   "source": [
    "from sklearn.preprocessing import OrdinalEncoder\n",
    "enc = OrdinalEncoder()\n",
    "train_data[categories] = enc.fit_transform(train_data[categories])"
   ]
  },
  {
   "cell_type": "code",
   "execution_count": 14,
   "id": "8ec8c5ca",
   "metadata": {},
   "outputs": [],
   "source": [
    "full_train = train_data.merge(labels, how='inner', left_index=True, right_index=True)"
   ]
  },
  {
   "cell_type": "code",
   "execution_count": 15,
   "id": "d8cb2e50",
   "metadata": {},
   "outputs": [],
   "source": [
    "x = full_train.drop('target', axis=1)\n",
    "y = full_train['target']"
   ]
  },
  {
   "cell_type": "code",
   "execution_count": 16,
   "id": "30dcaeb3",
   "metadata": {},
   "outputs": [],
   "source": [
    "x_train,x_test,y_train,y_test = train_test_split(x, y, test_size=0.22, random_state=42, stratify=y)"
   ]
  },
  {
   "cell_type": "code",
   "execution_count": 17,
   "id": "9b62c7f2",
   "metadata": {},
   "outputs": [],
   "source": [
    "#Random Forest Classifier\n",
    "from sklearn.metrics import mean_squared_error\n",
    "from sklearn.ensemble import RandomForestRegressor\n",
    "from sklearn.model_selection import GridSearchCV\n",
    "from sklearn.metrics import accuracy_score"
   ]
  },
  {
   "cell_type": "code",
   "execution_count": 18,
   "id": "33b8b6ee",
   "metadata": {},
   "outputs": [],
   "source": [
    "parameter_space = {\n",
    "        \"n_estimators\": [20], \n",
    "        \"min_samples_leaf\": [31],\n",
    "        \"min_samples_split\": [2],\n",
    "        \"max_depth\": [10],\n",
    "        \"max_features\": [40]\n",
    "    }\n",
    "clf = RandomForestRegressor(\n",
    "        criterion=\"squared_error\",\n",
    "        n_jobs=-1,\n",
    "        random_state=22)"
   ]
  },
  {
   "cell_type": "code",
   "execution_count": 19,
   "id": "bf9620c1",
   "metadata": {},
   "outputs": [],
   "source": [
    "#XG boost model\n",
    "from xgboost import XGBClassifier\n",
    "model = XGBClassifier(n_estimators=300, max_depth=6, learning_rate=0.1).fit(x_train, y_train)"
   ]
  },
  {
   "cell_type": "code",
   "execution_count": 20,
   "id": "f6829d18",
   "metadata": {},
   "outputs": [
    {
     "name": "stdout",
     "output_type": "stream",
     "text": [
      "Accuracy: 0.9005457552916473\n",
      "              precision    recall  f1-score   support\n",
      "\n",
      "           0       0.93      0.94      0.93     74819\n",
      "           1       0.81      0.80      0.81     26142\n",
      "\n",
      "    accuracy                           0.90    100961\n",
      "   macro avg       0.87      0.87      0.87    100961\n",
      "weighted avg       0.90      0.90      0.90    100961\n",
      "\n"
     ]
    }
   ],
   "source": [
    "predict= model.predict(x_test)\n",
    "accuracy = accuracy_score(y_test, predict)\n",
    "print(\"Accuracy:\", accuracy)\n",
    "\n",
    "# Evaluate performance\n",
    "from sklearn.metrics import classification_report\n",
    "print(classification_report(y_test, predict))"
   ]
  },
  {
   "cell_type": "code",
   "execution_count": 21,
   "id": "8866ca8a",
   "metadata": {},
   "outputs": [],
   "source": [
    "finish = time.time()\n",
    "total_time = finish - start"
   ]
  },
  {
   "cell_type": "code",
   "execution_count": 22,
   "id": "b573eff5",
   "metadata": {},
   "outputs": [
    {
     "name": "stdout",
     "output_type": "stream",
     "text": [
      "840.3021399974823\n"
     ]
    }
   ],
   "source": [
    "print(total_time)"
   ]
  }
 ],
 "metadata": {
  "kernelspec": {
   "display_name": "Python 3 (ipykernel)",
   "language": "python",
   "name": "python3"
  },
  "language_info": {
   "codemirror_mode": {
    "name": "ipython",
    "version": 3
   },
   "file_extension": ".py",
   "mimetype": "text/x-python",
   "name": "python",
   "nbconvert_exporter": "python",
   "pygments_lexer": "ipython3",
   "version": "3.9.12"
  }
 },
 "nbformat": 4,
 "nbformat_minor": 5
}
