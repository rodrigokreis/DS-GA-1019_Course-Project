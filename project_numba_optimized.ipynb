{
  "cells": [
    {
      "cell_type": "code",
      "execution_count": 1,
      "metadata": {
        "id": "386b_VDVIQ-O"
      },
      "outputs": [],
      "source": [
        "import numpy as np\n",
        "import pandas as pd\n",
        "import random\n",
        "import math\n",
        "import time\n",
        "from tqdm import tqdm\n",
        "\n",
        "from numba import jit, float64, float32, int32, prange, njit"
      ]
    },
    {
      "cell_type": "code",
      "execution_count": 8,
      "metadata": {
        "colab": {
          "base_uri": "https://localhost:8080/"
        },
        "id": "RVSyQ5t8IQ-Q",
        "outputId": "ea35c0fa-3abd-4212-f385-b438614bd11c"
      },
      "outputs": [
        {
          "name": "stderr",
          "output_type": "stream",
          "text": [
            "/var/folders/9c/9y0zmgk55297pv9nj1zpn02c0000gn/T/ipykernel_2345/3396567874.py:77: NumbaPerformanceWarning: \u001b[1m\u001b[1m\u001b[1mnp.dot() is faster on contiguous arrays, called on (array(float32, 2d, A), array(float32, 2d, C))\u001b[0m\u001b[0m\u001b[0m\n",
            "  preds = 1.0 / (1 + np.exp(-(np.dot(X, w) + b)))\n",
            "/var/folders/9c/9y0zmgk55297pv9nj1zpn02c0000gn/T/ipykernel_2345/3396567874.py:77: NumbaPerformanceWarning: \u001b[1m\u001b[1mnp.dot() is faster on contiguous arrays, called on (array(float32, 2d, A), array(float32, 2d, C))\u001b[0m\u001b[0m\n",
            "  preds = 1.0 / (1 + np.exp(-(np.dot(X, w) + b)))\n"
          ]
        }
      ],
      "source": [
        "@njit(\"(float32[:, :],float32[:, :],int32,int32,float32)\", nogil=True, parallel=True, fastmath=True)\n",
        "def train(X, y, bs, epochs, lr):\n",
        "    m = X.shape[0]\n",
        "    n = X.shape[1]\n",
        "    \n",
        "    # Initializing weights and bias to zeros.\n",
        "    w = np.zeros((n,1), dtype=np.float32)\n",
        "    b = 0.0\n",
        "    \n",
        "    # Normalize inputs\n",
        "    means = np.zeros(n)\n",
        "    stds = np.zeros(n)\n",
        "    \n",
        "    # Compute column-wise means and standard deviations\n",
        "    for j in prange(n):\n",
        "        col = X[:, j]\n",
        "        means[j] = np.mean(col)\n",
        "        stds[j] = np.std(col)\n",
        "    \n",
        "    # Normalize X based on means and standard deviations\n",
        "    for i in prange(m):\n",
        "        for j in prange(n):\n",
        "            X[i, j] = (X[i, j] - means[j]) / stds[j]\n",
        "    \n",
        "    # Train\n",
        "    for epoch in prange(epochs):\n",
        "        for i in prange((m-1)//bs + 1):\n",
        "            \n",
        "            # Defining batches for SGD\n",
        "            start_i = i*bs\n",
        "            end_i = start_i + bs\n",
        "            xb = X[start_i:end_i]\n",
        "            yb = y[start_i:end_i]\n",
        "            \n",
        "            # Predict\n",
        "            y_hat = 1.0 / (1 + np.exp(-(np.dot(xb, w) + b)))\n",
        "            \n",
        "            # Calculate gradients\n",
        "            diff = np.subtract(y_hat, yb)\n",
        "            scale_factor = np.divide(1,xb.shape[0])\n",
        "\n",
        "            #Gradient of loss wrt weights\n",
        "            dot = np.dot(np.transpose(xb).astype(np.float64), diff)\n",
        "            dw = np.multiply(scale_factor, dot)\n",
        "\n",
        "            #Gradient of loss wrt bias\n",
        "            db = np.multiply(scale_factor, np.sum(diff))\n",
        "            \n",
        "            # Update params\n",
        "            w -= lr*dw\n",
        "            b -= lr*db\n",
        "        \n",
        "    return w, b\n",
        "\n",
        "@njit(\"Tuple((float32[:, :], float32))(float32[:, :],float32[:, :])\", nogil=True, fastmath=True)\n",
        "def compare(X, y): \n",
        "    random.seed(1)\n",
        "    w, b = train(X, y, bs=100, epochs=1000, lr=0.001)\n",
        "\n",
        "    # Normalizing the inputs.\n",
        "    n, m = X.shape\n",
        "    means = np.zeros(m)\n",
        "    stds = np.zeros(m)\n",
        "    \n",
        "    # Compute column-wise means and standard deviations\n",
        "    for j in prange(m):\n",
        "        col = X[:, j]\n",
        "        means[j] = np.mean(col)\n",
        "        stds[j] = np.std(col)\n",
        "    \n",
        "    # Normalize X based on means and standard deviations\n",
        "    for i in prange(n):\n",
        "        for j in prange(m):\n",
        "            X[i, j] = (X[i, j] - means[j]) / stds[j]\n",
        "    \n",
        "    # Calculating predictions/y_hat.\n",
        "    preds = 1.0 / (1 + np.exp(-(np.dot(X, w) + b)))\n",
        "    \n",
        "    # Converting predicted probabilities to binary classes.\n",
        "    pred = np.where(preds >= 0.5, 1, 0)\n",
        "    \n",
        "    y_rav = np.asarray(y, dtype=np.float32).ravel()\n",
        "    pred_rav = np.asarray(pred, dtype=np.float32).ravel()\n",
        "    acc = np.sum(y_rav == pred_rav) / len(y_rav)\n",
        "    return w, acc"
      ]
    },
    {
      "cell_type": "code",
      "execution_count": 3,
      "metadata": {
        "colab": {
          "base_uri": "https://localhost:8080/"
        },
        "id": "YL1Y1e4FIQ-T",
        "outputId": "19c66177-0818-4e90-bbfd-60275eb1b5c1"
      },
      "outputs": [
        {
          "name": "stdout",
          "output_type": "stream",
          "text": [
            "Reading the parquet file took 5.4225 seconds\n"
          ]
        }
      ],
      "source": [
        "start = time.time()\n",
        "train_raw = pd.read_parquet('./data/train_data.parquet')\n",
        "end = time.time() \n",
        "print(f\"Reading the parquet file took {end - start:0.4f} seconds\")"
      ]
    },
    {
      "cell_type": "code",
      "execution_count": 9,
      "metadata": {
        "id": "JjPltxXFIQ-T"
      },
      "outputs": [],
      "source": [
        "def clean_and_getSampledata(train_raw):\n",
        "    raw_sample = train_raw.iloc[:100_000] #Change sample size here\n",
        "    raw_sample = raw_sample.drop('B_31', axis='columns')\n",
        "    sample = raw_sample.select_dtypes(include=['float32', 'int64'], exclude=['object', 'category']).fillna(0)\n",
        "    categorical_features = ['target']\n",
        "    sample[categorical_features] = sample[categorical_features].astype(\"float32\")\n",
        "    X_train = sample.iloc[:,:-1].values\n",
        "    y_train = sample[['target']].values\n",
        "    return X_train, y_train"
      ]
    },
    {
      "cell_type": "code",
      "execution_count": 10,
      "metadata": {
        "id": "QMqOlp-pIQ-U"
      },
      "outputs": [],
      "source": [
        "X_train, y_train = clean_and_getSampledata(train_raw)"
      ]
    },
    {
      "cell_type": "code",
      "execution_count": 12,
      "metadata": {},
      "outputs": [],
      "source": [
        "w2, acc = compare(X_train, y_train)"
      ]
    },
    {
      "cell_type": "code",
      "execution_count": null,
      "metadata": {},
      "outputs": [
        {
          "name": "stdout",
          "output_type": "stream",
          "text": [
            "27.2 s ± 603 ms per loop (mean ± std. dev. of 7 runs, 1 loop each)\n"
          ]
        }
      ],
      "source": [
        "%%timeit\n",
        "w2, acc = compare(X_train, y_train)"
      ]
    },
    {
      "cell_type": "code",
      "execution_count": 8,
      "metadata": {
        "colab": {
          "base_uri": "https://localhost:8080/"
        },
        "id": "1eaYrco-IQ-V",
        "outputId": "36dccf09-ad7b-4c8b-dafc-bfce3e776f80"
      },
      "outputs": [],
      "source": [
        "#  %%time\n",
        "#  w2, acc = compare(X_train, y_train)"
      ]
    },
    {
      "cell_type": "code",
      "execution_count": 9,
      "metadata": {
        "colab": {
          "base_uri": "https://localhost:8080/"
        },
        "id": "4ckI_OgfIQ-V",
        "outputId": "71d46c91-8920-4213-a61c-0f1ceac1ae1f"
      },
      "outputs": [],
      "source": [
        "# print(f'Accuracy of our logistic regression: {acc}')"
      ]
    }
  ],
  "metadata": {
    "colab": {
      "machine_shape": "hm",
      "provenance": []
    },
    "gpuClass": "standard",
    "kernelspec": {
      "display_name": "Python 3 (ipykernel)",
      "language": "python",
      "name": "python3"
    },
    "language_info": {
      "codemirror_mode": {
        "name": "ipython",
        "version": 3
      },
      "file_extension": ".py",
      "mimetype": "text/x-python",
      "name": "python",
      "nbconvert_exporter": "python",
      "pygments_lexer": "ipython3",
      "version": "3.8.16"
    }
  },
  "nbformat": 4,
  "nbformat_minor": 0
}
